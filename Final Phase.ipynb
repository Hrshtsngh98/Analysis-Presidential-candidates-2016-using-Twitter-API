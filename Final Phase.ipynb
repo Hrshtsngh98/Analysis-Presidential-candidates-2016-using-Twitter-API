{
 "cells": [
  {
   "cell_type": "markdown",
   "metadata": {},
   "source": [
    "# Presidential campaign Analyser\n",
    "\n",
    "**Harshit Singh**\n",
    "\n",
    "**GENERAL DESCRIPTION:**\n",
    "Our Project will try to analyse the current political consensus for on going Presidential elections of America. We are collecting our dataset using twitterAPI (twython).We are collecting the tweets of specific hashtags and then manually classifying these tweets in four specific categories- Trump_positive, Trump_negative, Hillary_positive, Hillary_negative, then using these four classes, we would be analysing the general sentiments of masses.\n",
    "\n",
    "**DATA COLLECTION:**\n",
    "Now to collect the data we will be using library called Twython. We will be searching tweets which will have certain hashtags and those hastags are related to either the two presidential candidates Donald trump and hillary clinton or related to the presidential election. \n",
    "\n",
    "**LOADING DATA INTO MATRIX**:\n",
    "To load the data into matrix we used CountVectorizer which is in **sklearn.feature_extraction.text**.\n",
    "\n",
    "**CLASSES FOR THE PROJECT**:\n",
    "We have divided the classes into four parts that is **HILLARY_POSITIVE**,**HILLARY_NEGATIVE**,**TRUMP_POSITIVE**,**TRUMP_NEGATIVE**\n",
    "\n",
    "**EXAMPLE OF TWEETS WHICH EACH CLASS CAN CONTAIN**:\n",
    "\n",
    "**HILLARY_POSITIVE**:\n",
    "MAKE UR VOTE COUNT!#VOTEHILLARY #pesidentialelection2016\n",
    "\n",
    "**HILLARY_NEGATIVE**:\n",
    "I don't get it. You would have to be deranged with no morals to vote for her #NeverHillary\n",
    "\n",
    "**TRUMP_POSITIVE**:\n",
    "Gonna beat her in votes too❗❗ #vote #trump #donaldtrump #thedonald #election #campaign #president#2016\n",
    "\n",
    "**TRUMP_NEGATIVE**: #NeverTrump #DumpTrump #NeverGOP #DonTheCon #Trump\n",
    "\n",
    "We dicarded the neutral tweets from our dataset.\n",
    "\n",
    "**MODEL SELECTION**:\n",
    "We are using Four Classifiers from which we will use the best classifier for analysing our result.\n",
    "\n",
    "**CLASSIFIERS USED**:\n",
    " - DECISION TREE CLASSIFIER\n",
    " - MultinomialNB\n",
    " - Logistic Regression\n",
    " - Support Vector Classifier\n",
    " \n",
    "**RESULT OF THIS PROJECT**\n",
    "\n",
    "After getting the best classifier we will check the occurrence of test tweets in each class and then we will subtract the vlaue of negative class from the positive and then whoever has a highest score will most likely win the election. \n",
    "\n",
    "Tools Used: Twython, Scikit learn, Python-3.5, numpy, matplotlib\n",
    "\n",
    "\n"
   ]
  },
  {
   "cell_type": "code",
   "execution_count": 1,
   "metadata": {
    "collapsed": true
   },
   "outputs": [],
   "source": [
    "from sklearn.linear_model import LogisticRegression\n",
    "from sklearn.model_selection import train_test_split, cross_val_score\n",
    "from sklearn.metrics import accuracy_score, precision_score, recall_score\n",
    "from sklearn.tree import DecisionTreeClassifier\n",
    "from sklearn.naive_bayes import MultinomialNB\n",
    "from sklearn.svm import SVC\n",
    "import numpy as np\n",
    "from sklearn.feature_extraction.text import CountVectorizer\n",
    "import io\n",
    "import re\n",
    "import numpy as np\n",
    "import matplotlib.pyplot as plt\n",
    "%matplotlib inline\n",
    "from sklearn.feature_extraction.text import TfidfVectorizer\n",
    "from twython import Twython\n",
    "import time"
   ]
  },
  {
   "cell_type": "markdown",
   "metadata": {},
   "source": [
    "# PHASE 1 OF THE PROJECT"
   ]
  },
  {
   "cell_type": "markdown",
   "metadata": {},
   "source": [
    "**DATA COLLECTION CODE OF THE PROJECT**\n",
    "\n",
    "WE HAVE ALREADY RUN THE CODE BELOW THIS CELL.\n",
    "\n",
    "AND DATA HAS BEEN SORTED INTO THE FOUR CLASSES THAT WE HAVE MENTIONED ABOVE."
   ]
  },
  {
   "cell_type": "code",
   "execution_count": 2,
   "metadata": {
    "collapsed": false
   },
   "outputs": [],
   "source": [
    "consumer_key = 'kxP3IJBXu1allrzqFuhOgU4vH'\n",
    "consumer_secret = 'ivCGzqL8sRMiYkUHrgqkhFfdkyBaDalOKbdAUGLTQgr4clM6iW'\n",
    "access_token = '131175053-cQxTTiC1y9IMFgmG2LOG9cCmlG3iteg59XfGzTs8'\n",
    "access_token_secret = 'hbnTi53BrKPO0wGhrq0vjsJfxApuU5SD8XNemrrs16qbU'\n",
    "\n",
    "t = Twython(app_key=consumer_key, \n",
    "            app_secret=consumer_secret, \n",
    "            oauth_token=access_token, \n",
    "            oauth_token_secret=access_token_secret)\n",
    "\n",
    "\n",
    "hash_file=open(\"Hashtags.txt\",'r')\n",
    "tweet_file = open('tweets2.txt', 'w')\n",
    "tags = hash_file.read().split()\n",
    "\n",
    "for tag in tags:\n",
    "    try:\n",
    "        search = t.search(q=tag, count=100,lang='en',since_id='2016-10-25')\n",
    "    except:\n",
    "        print('Rate limit exceeded sleeping for 15 minutes.')\n",
    "        time.sleep(61 * 15)        \n",
    "    tweets = search['statuses']\n",
    "\n",
    "\n",
    "\n",
    "for tweet in tweets:\n",
    "    text = tweet['text']\n",
    "    if \"RT\" not in text:\n",
    "        try:\n",
    "            tweet_file.write(text)\n",
    "        except:\n",
    "            pass\n",
    "                            \n",
    "tweet_file.close()\n",
    "hash_file.close()"
   ]
  },
  {
   "cell_type": "markdown",
   "metadata": {},
   "source": [
    "**STORING DATA INTO MATRIX**"
   ]
  },
  {
   "cell_type": "code",
   "execution_count": 5,
   "metadata": {
    "collapsed": true
   },
   "outputs": [],
   "source": [
    "file_names=['data/hillary_negative.txt','data/hillary_positive.txt','data/trump_negative.txt','data/trump_positive.txt']"
   ]
  },
  {
   "cell_type": "markdown",
   "metadata": {},
   "source": [
    "**THE FUNCTION BELOW IS TO TOKENIZE THE CONTENT OF THE FILES**"
   ]
  },
  {
   "cell_type": "code",
   "execution_count": 6,
   "metadata": {
    "collapsed": true
   },
   "outputs": [],
   "source": [
    "def tokenize(text):\n",
    "    \n",
    "    x=re.findall(\"\\s*(\\d+|\\w+|.)\", text.lower())\n",
    "    for i in range(len(x)):\n",
    "        if i==len(x)-1 and x[i]=='not':\n",
    "            return x \n",
    "        \n",
    "        if x[i]=='not' and i!= len(x):\n",
    "            if(i == len(x)-2) and x[i]== 'not':\n",
    "                x[i+1] = \"not_%s\"%x[i+1]\n",
    "                return x\n",
    "            x[i+1]=\"not_%s\"%x[i+1]\n",
    "            x[i+2]=\"not_%s\"%x[i+2]\n",
    "        \n",
    "                   \n",
    "        \n",
    "                    \n",
    "\n",
    "    return x"
   ]
  },
  {
   "cell_type": "markdown",
   "metadata": {},
   "source": [
    "** THE CELL BELOW WILL READ THE CONTENT OF THE FOUR FILES AND ALSO LABEL IT**"
   ]
  },
  {
   "cell_type": "code",
   "execution_count": 7,
   "metadata": {
    "collapsed": false
   },
   "outputs": [],
   "source": [
    "content=[]\n",
    "labels = []\n",
    "for i,filename in enumerate(file_names):\n",
    "    f=open(filename,'r',encoding=\"utf8\")\n",
    "    temp = f.read().split('<sep>')\n",
    "    for x in temp:\n",
    "        content.append(x.strip())\n",
    "        labels.append(i)\n",
    "labels = np.asarray(labels)"
   ]
  },
  {
   "cell_type": "code",
   "execution_count": 8,
   "metadata": {
    "collapsed": true
   },
   "outputs": [],
   "source": [
    "def do_vectorize(filenames, tokenizer_fn=tokenize, min_df=1,\n",
    "                 max_df=1., binary=True, ngram_range=(1,1),dtype=int):\n",
    "\n",
    "\n",
    "    \n",
    "    vec = CountVectorizer(input='content',tokenizer=tokenizer_fn,\n",
    "                          ngram_range=ngram_range,min_df=min_df,max_df=max_df,binary=binary,dtype=int)\n",
    "    matrix = vec.fit_transform(filenames)\n",
    "    X=(matrix,vec)\n",
    "    \n",
    "    return X\n",
    "\n",
    "    \n",
    "    \n",
    "matrix, vec = do_vectorize(content)"
   ]
  },
  {
   "cell_type": "markdown",
   "metadata": {},
   "source": [
    "** THE CELL BELOW IS TO SHOW THE SHAPE OF THE MATRIX CREATED**"
   ]
  },
  {
   "cell_type": "code",
   "execution_count": 9,
   "metadata": {
    "collapsed": false
   },
   "outputs": [
    {
     "name": "stdout",
     "output_type": "stream",
     "text": [
      "matrix represents 1045 documents with 3578 features\n",
      "(1045,)\n"
     ]
    }
   ],
   "source": [
    "print ('matrix represents %d documents with %d features' % (matrix.shape[0], matrix.shape[1]))\n",
    "print(labels.shape)"
   ]
  },
  {
   "cell_type": "markdown",
   "metadata": {},
   "source": [
    "** THE CELL BELOW SHOWS THE BAR GRAPH PLOT OF THE CLASS FREQUENCIES**"
   ]
  },
  {
   "cell_type": "code",
   "execution_count": 10,
   "metadata": {
    "collapsed": false
   },
   "outputs": [
    {
     "data": {
      "image/png": "[encoded data removed]",
      "text/plain": [
       "<matplotlib.figure.Figure at 0x281d1b28e80>"
      ]
     },
     "metadata": {},
     "output_type": "display_data"
    }
   ],
   "source": [
    "tweets=[]\n",
    "for name in file_names:\n",
    "    f=open(name,'r',encoding='utf8')\n",
    "    tweets.append(len(f.readlines()))\n",
    "    \n",
    "fig=plt.figure()\n",
    "ax=fig.add_subplot(111)\n",
    "width=0.2\n",
    "r1=ax.bar(0.2,tweets[0],width,color='red',alpha=0.75)\n",
    "r2=ax.bar(0.4+width,tweets[1],width,color='blue',alpha=0.75)\n",
    "r3=ax.bar(0.8+width,tweets[2],width,color='green',alpha=0.75)\n",
    "r4=ax.bar(1.2+width,tweets[3],width,color='black',alpha=0.75)\n",
    "label=['Hillary_Negative','Hillary_Positive','Trump_Negative','Trump_Positive']\n",
    "ax.set_ylabel('NO OF TWEETS')\n",
    "ax.set_title('CLASS FREQUENCY')\n",
    "ax.set_xticks([0.3,0.7,1.1,1.5])\n",
    "l=ax.set_xticklabels(label)\n",
    "ax.set_xlim(0,1.8)\n",
    "plt.setp(l,rotation=45, fontsize=10)\n",
    "plt.show()"
   ]
  },
  {
   "cell_type": "markdown",
   "metadata": {},
   "source": [
    "** THIS BELOW FUNCTION IS USED JUST TO TAKE OUT THE FREQUENCY OF THE FEATURES**"
   ]
  },
  {
   "cell_type": "code",
   "execution_count": 11,
   "metadata": {
    "collapsed": true
   },
   "outputs": [],
   "source": [
    "def do_vectorize1(filenames, tokenizer_fn=tokenize, min_df=1,\n",
    "                 max_df=1., binary=True, ngram_range=(1,1),dtype=int):\n",
    "\n",
    "\n",
    "    \n",
    "    vec = TfidfVectorizer(input='content',tokenizer=tokenizer_fn,\n",
    "                          ngram_range=ngram_range,min_df=min_df,max_df=max_df,binary=binary,dtype=int)\n",
    "    matrix = vec.fit_transform(filenames)\n",
    "    X=(matrix,vec)\n",
    "    \n",
    "    return X\n",
    "\n",
    "    \n",
    "    \n",
    "matrix1, vec1 = do_vectorize1(content)"
   ]
  },
  {
   "cell_type": "markdown",
   "metadata": {},
   "source": [
    "**BELOW ARE THE TOP 100 FEATURES ACCORDING TO MY MATRIX**"
   ]
  },
  {
   "cell_type": "code",
   "execution_count": 12,
   "metadata": {
    "collapsed": false
   },
   "outputs": [
    {
     "name": "stdout",
     "output_type": "stream",
     "text": [
      "Word: lovewins\tIDF: 7.2596\n",
      "Word: itv\tIDF: 7.2596\n",
      "Word: kufour\tIDF: 7.2596\n",
      "Word: kudos\tIDF: 7.2596\n",
      "Word: ksuzxiunxlyou\tIDF: 7.2596\n",
      "Word: known\tIDF: 7.2596\n",
      "Word: knowing\tIDF: 7.2596\n",
      "Word: knew\tIDF: 7.2596\n",
      "Word: kmzs1cj9yw\tIDF: 7.2596\n",
      "Word: klan\tIDF: 7.2596\n",
      "Word: kind\tIDF: 7.2596\n",
      "Word: kimpossible\tIDF: 7.2596\n",
      "Word: kim\tIDF: 7.2596\n",
      "Word: killers\tIDF: 7.2596\n",
      "Word: babies\tIDF: 7.2596\n",
      "Word: kidding\tIDF: 7.2596\n",
      "Word: kiddie\tIDF: 7.2596\n",
      "Word: kiddernoggin\tIDF: 7.2596\n",
      "Word: kicked\tIDF: 7.2596\n",
      "Word: l5qqz9chtivanka\tIDF: 7.2596\n",
      "Word: l5taqyrqzq\tIDF: 7.2596\n",
      "Word: l7jpggjpgzhow\tIDF: 7.2596\n",
      "Word: laugh\tIDF: 7.2596\n",
      "Word: learned\tIDF: 7.2596\n",
      "Word: leaked\tIDF: 7.2596\n",
      "Word: lcxntyxab7msm\tIDF: 7.2596\n",
      "Word: lb\tIDF: 7.2596\n",
      "Word: laying\tIDF: 7.2596\n",
      "Word: law\tIDF: 7.2596\n",
      "Word: laughing\tIDF: 7.2596\n",
      "Word: latinx\tIDF: 7.2596\n",
      "Word: azz\tIDF: 7.2596\n",
      "Word: latinovictoryus\tIDF: 7.2596\n",
      "Word: latinos\tIDF: 7.2596\n",
      "Word: latina\tIDF: 7.2596\n",
      "Word: latiffani1\tIDF: 7.2596\n",
      "Word: ax75cd79on\tIDF: 7.2596\n",
      "Word: large\tIDF: 7.2596\n",
      "Word: lake\tIDF: 7.2596\n",
      "Word: keyboards\tIDF: 7.2596\n",
      "Word: key\tIDF: 7.2596\n",
      "Word: kevindurant\tIDF: 7.2596\n",
      "Word: jihadis\tIDF: 7.2596\n",
      "Word: join\tIDF: 7.2596\n",
      "Word: johnvoight\tIDF: 7.2596\n",
      "Word: johnkingcnn\tIDF: 7.2596\n",
      "Word: johnjharwood\tIDF: 7.2596\n",
      "Word: jkudcghfdwtrumps\tIDF: 7.2596\n",
      "Word: jim\tIDF: 7.2596\n",
      "Word: jillnothill\tIDF: 7.2596\n",
      "Word: jfk\tIDF: 7.2596\n",
      "Word: joke\tIDF: 7.2596\n",
      "Word: jerbs\tIDF: 7.2596\n",
      "Word: jennyanne1973\tIDF: 7.2596\n",
      "Word: jeezus\tIDF: 7.2596\n",
      "Word: jd_constitution\tIDF: 7.2596\n",
      "Word: javitscenter\tIDF: 7.2596\n",
      "Word: jaredwyand\tIDF: 7.2596\n",
      "Word: jaclopac\tIDF: 7.2596\n",
      "Word: joining\tIDF: 7.2596\n",
      "Word: jorgeramosnews\tIDF: 7.2596\n",
      "Word: kentucky\tIDF: 7.2596\n",
      "Word: justadumbcat\tIDF: 7.2596\n",
      "Word: kennedy\tIDF: 7.2596\n",
      "Word: katyperry\tIDF: 7.2596\n",
      "Word: jy_liberty\tIDF: 7.2596\n",
      "Word: jvaaguiar\tIDF: 7.2596\n",
      "Word: justinbieber\tIDF: 7.2596\n",
      "Word: justifies\tIDF: 7.2596\n",
      "Word: justice4danneywilliams\tIDF: 7.2596\n",
      "Word: babyhands\tIDF: 7.2596\n",
      "Word: joy\tIDF: 7.2596\n",
      "Word: jumpsuit\tIDF: 7.2596\n",
      "Word: judge\tIDF: 7.2596\n",
      "Word: ju\tIDF: 7.2596\n",
      "Word: jr9i4dmbc4\tIDF: 7.2596\n",
      "Word: jr\tIDF: 7.2596\n",
      "Word: jqhizg7cnmnice\tIDF: 7.2596\n",
      "Word: joyannreid\tIDF: 7.2596\n",
      "Word: leave\tIDF: 7.2596\n",
      "Word: led\tIDF: 7.2596\n",
      "Word: leftie\tIDF: 7.2596\n",
      "Word: loves\tIDF: 7.2596\n",
      "Word: lump\tIDF: 7.2596\n",
      "Word: astonishing\tIDF: 7.2596\n",
      "Word: lucifer\tIDF: 7.2596\n",
      "Word: loyal\tIDF: 7.2596\n",
      "Word: low\tIDF: 7.2596\n",
      "Word: loving\tIDF: 7.2596\n",
      "Word: 🤑\tIDF: 7.2596\n",
      "Word: lovemankind\tIDF: 7.2596\n",
      "Word: lxrrorjshy\tIDF: 7.2596\n",
      "Word: attack\tIDF: 7.2596\n",
      "Word: louise\tIDF: 7.2596\n",
      "Word: losing\tIDF: 7.2596\n",
      "Word: losangeles\tIDF: 7.2596\n",
      "Word: lords\tIDF: 7.2596\n",
      "Word: loose\tIDF: 7.2596\n",
      "Word: loonydonald\tIDF: 7.2596\n",
      "Word: lwd9q4cqcychina\tIDF: 7.2596\n"
     ]
    }
   ],
   "source": [
    "indices = np.argsort(vec1.idf_)[::-1]\n",
    "features = vec1.get_feature_names()\n",
    "top_n = 100\n",
    "top_features = [features[i] for i in indices[:top_n]]\n",
    "idfs = [vec1.idf_[i] for i in indices[:top_n]]\n",
    "for i in range(top_n):\n",
    "    print('Word: {}\\tIDF: {:.4f}'.format(top_features[i],idfs[i]))"
   ]
  },
  {
   "cell_type": "markdown",
   "metadata": {},
   "source": [
    "# PHASE 2 OF THE PROJECT"
   ]
  },
  {
   "cell_type": "markdown",
   "metadata": {},
   "source": [
    "**PERFORMANCE**\n",
    "\n",
    "We are using accuracy as performance metric"
   ]
  },
  {
   "cell_type": "markdown",
   "metadata": {},
   "source": [
    "**BASELINE PREDICTION**\n",
    "\n",
    "** WHEN THE LABELS ARE TAKEN AS RANDOM OR MAJORITY CLASS **"
   ]
  },
  {
   "cell_type": "code",
   "execution_count": 13,
   "metadata": {
    "collapsed": false
   },
   "outputs": [
    {
     "name": "stdout",
     "output_type": "stream",
     "text": [
      "RANDOM CLASS 0.251674641148\n",
      "HIGH CLASS 0.355023923445\n"
     ]
    }
   ],
   "source": [
    "labels1 = np.random.randint(0, 4,len(labels))\n",
    "labels2 = [2]*len(labels)\n",
    "print('RANDOM CLASS',accuracy_score(labels,labels1))\n",
    "print('HIGH CLASS',accuracy_score(labels,labels2))"
   ]
  },
  {
   "cell_type": "code",
   "execution_count": 25,
   "metadata": {
    "collapsed": true
   },
   "outputs": [],
   "source": [
    "penalty=np.linspace(0.1, 1.0, num=100)\n",
    "score=[]\n",
    "score1=[]\n",
    "score2=[]\n",
    "score3=[]"
   ]
  },
  {
   "cell_type": "markdown",
   "metadata": {},
   "source": [
    "** THE BELOW CODE IS FOR MODEL SELECTION **"
   ]
  },
  {
   "cell_type": "code",
   "execution_count": 28,
   "metadata": {
    "collapsed": false
   },
   "outputs": [
    {
     "name": "stdout",
     "output_type": "stream",
     "text": [
      "iterations Done 49\t1.000000 "
     ]
    }
   ],
   "source": [
    "import pickle\n",
    "\n",
    "for i in range(50):\n",
    "    tr_X, te_X, tr_y, te_y = train_test_split(matrix, labels, train_size=0.67,random_state=i)\n",
    "    for j in penalty:\n",
    "        clf = LogisticRegression(solver='newton-cg', multi_class='multinomial',C=j)\n",
    "        clf4 = SVC(C=j)\n",
    "        clf1 = DecisionTreeClassifier()\n",
    "        clf3 = MultinomialNB()\n",
    "        score.append((np.mean(cross_val_score(clf, tr_X, tr_y, cv=10, scoring='accuracy')),i,j))\n",
    "        score1.append((np.mean(cross_val_score(clf4, tr_X, tr_y, cv=10, scoring='accuracy')),i,j))\n",
    "        score2.append((np.mean(cross_val_score(clf1, tr_X, tr_y, cv=10, scoring='accuracy')),i,j))\n",
    "        score3.append((np.mean(cross_val_score(clf3, tr_X, tr_y, cv=10, scoring='accuracy')),i,j))\n",
    "        print('\\riterations Done %d\\t%f'%(i,j),end=' ')\n",
    "\n",
    "pickle.dump([score,score1,score2,score3],open('scores','wb'))"
   ]
  },
  {
   "cell_type": "markdown",
   "metadata": {},
   "source": [
    "**RESULT OF THE ABOVE CODE **"
   ]
  },
  {
   "cell_type": "code",
   "execution_count": 161,
   "metadata": {
    "collapsed": false
   },
   "outputs": [
    {
     "name": "stdout",
     "output_type": "stream",
     "text": [
      "LOGISTIC REGRESSION (0.68030982999445955, 31, 0.92727272727272725)\n",
      "SUPPORT VECTOR MACHINE (0.37293178101099478, 23, 0.10000000000000001)\n",
      "DECISION TREE CLASSIFIER (0.62273554369696438, 2, 0.66363636363636358)\n",
      "MULTINOMIALNB (0.60928571428571432, 35, 0.10000000000000001)\n",
      "Maximum score :  0.680309829994\n"
     ]
    }
   ],
   "source": [
    "score=sorted(score,key=lambda x: -x[0] )\n",
    "score1=sorted(score1,key=lambda x: -x[0] )\n",
    "score2=sorted(score2,key=lambda x: -x[0] )\n",
    "score3=sorted(score3,key=lambda x: -x[0] )\n",
    "all_score = [score[0][0],score1[0][0],score2[0][0],score3[0][0]]\n",
    "max_score = (all_score.index(max(all_score)),max(all_score))\n",
    "print('LOGISTIC REGRESSION',score[0])\n",
    "print('SUPPORT VECTOR MACHINE',score1[0])\n",
    "print('DECISION TREE CLASSIFIER',score2[0])\n",
    "print('MULTINOMIALNB',score3[0])\n",
    "print('Maximum score : ',max_score[1])"
   ]
  },
  {
   "cell_type": "markdown",
   "metadata": {},
   "source": [
    "**THE BEST MODEL THAT WE GOT FROM CROSS VALIDATION WAS LOGISTIC REGRESSION**\n",
    "\n",
    "**NOW WE WILL TRY DIFFERENT COMBINATIONS IN LOGISTIC REGRESSION**"
   ]
  },
  {
   "cell_type": "code",
   "execution_count": 153,
   "metadata": {
    "collapsed": false
   },
   "outputs": [],
   "source": [
    "solver=['newton-cg','sag','lbfgs']\n",
    "score4=[]\n",
    "score5=[]\n",
    "penalty1=['l2']\n",
    "max_iter=np.linspace(100,200,num=50)\n",
    "tr_X, te_X, tr_y, te_y = train_test_split(matrix, labels, train_size=0.67,random_state=31)\n",
    "try:\n",
    "    for m in max_iter:\n",
    "        for solve in solver:\n",
    "            for p in penalty1:\n",
    "                clf = LogisticRegression(solver=solve, multi_class='multinomial',C=0.9272727272725,max_iter=m,penalty=p)\n",
    "                score4= np.mean(cross_val_score(clf, tr_X, tr_y, cv=10, scoring='accuracy'))\n",
    "                if(score4>score[0][0]):\n",
    "                    score5.append((score4,m,solve,p))\n",
    "except:\n",
    "    pass\n",
    "x = open('LogisticRegresion.p','wb')\n",
    "pickle.dump(score5,x)\n",
    "x.close()"
   ]
  },
  {
   "cell_type": "markdown",
   "metadata": {},
   "source": [
    "**EVALUATION OF THE SELECTED MODEL**"
   ]
  },
  {
   "cell_type": "code",
   "execution_count": 154,
   "metadata": {
    "collapsed": false
   },
   "outputs": [
    {
     "name": "stdout",
     "output_type": "stream",
     "text": [
      "0.5826, 0.5854, 0.5826\n"
     ]
    }
   ],
   "source": [
    "clf = LogisticRegression(solver='newton-cg', multi_class='multinomial',C=0.9272727272725)\n",
    "clf.fit(tr_X, tr_y)\n",
    "y = clf.predict(te_X)\n",
    "acc = accuracy_score(te_y, y)\n",
    "pre = precision_score(te_y, y, average='weighted')\n",
    "rec = recall_score(te_y, y,average='weighted')\n",
    "print('{:.4f}, {:.4f}, {:.4f}'.format(acc, pre, rec))"
   ]
  },
  {
   "cell_type": "markdown",
   "metadata": {},
   "source": [
    "** TOP TEN POSITIVE AND NEGATIVE COEFFICIENTS USED BY THE MODEL**"
   ]
  },
  {
   "cell_type": "code",
   "execution_count": 108,
   "metadata": {
    "collapsed": false
   },
   "outputs": [
    {
     "name": "stdout",
     "output_type": "stream",
     "text": [
      "HILLARY_NEGATIVE\n",
      "top_positive :  [('fuckhillary', 1.0391729218287471), ('hillno', 1.1261598138807012), ('neverhillary', 1.2370160401848656), ('crookedhillary', 1.4957150854287564), ('hillaryforprison2016', 1.9608260015059567)]\n",
      "\n",
      "\n",
      "top_negative :  [('nevertrump', -1.0688001463309191), ('donaldjtrump', -1.0027422708884994), ('imwithher', -0.72634097103149919), ('dumptrump', -0.70192367014796619), ('please', -0.66488857982664495)]\n",
      "\n",
      "\n",
      "HILLARY_POSITIVE\n",
      "top_positive :  [('clinton', 0.83556960073895281), ('hilaryclinton', 1.0981688433672858), ('hilary', 1.1110476941705234), ('hillaryclinton', 1.2703339564566791), ('imwithher', 1.9222054980580123)]\n",
      "\n",
      "\n",
      "top_negative :  [('fuckhillary', -0.92470246344094098), ('realdonaldtrump', -0.78001830496729418), ('trump', -0.690017547869617), ('if', -0.62635794074978202), ('fucktrump', -0.60584290854403666)]\n",
      "\n",
      "\n",
      "TRUMP_NEGATIVE\n",
      "top_positive :  [('fucktrump', 0.74508899762659053), ('drumpf', 0.77521009022233578), ('dumptrump', 1.1964711383256146), ('antitrump', 1.4692689375159103), ('nevertrump', 1.62274653830354)]\n",
      "\n",
      "\n",
      "top_negative :  [('hillary', -0.94267799511891681), ('crookedhillary', -0.81752992465101693), ('hillaryforprison2016', -0.81154458096033211), ('win', -0.77991598548934749), ('clinton', -0.77637200471320189)]\n",
      "\n",
      "\n",
      "TRUMP_POSITIVE\n",
      "top_positive :  [('donaldtrump2016', 0.91478288895550963), ('votetrump', 0.93211281908970334), ('trump2016', 0.97360376242979041), ('realdonaldtrump', 1.1776225944997827), ('donaldjtrump', 1.4849706916361471)]\n",
      "\n",
      "\n",
      "top_negative :  [('dumptrump', -0.81021873023040869), ('antitrump', -0.63708578791275405), ('hilaryclinton', -0.62576717178132302), ('hilary', -0.59209405065500786), ('nevertrump', -0.58418865020030153)]\n",
      "\n",
      "\n"
     ]
    }
   ],
   "source": [
    "features=vec1.get_feature_names()\n",
    "class_names = [\"HILLARY_NEGATIVE\",\"HILLARY_POSITIVE\",\"TRUMP_NEGATIVE\",\"TRUMP_POSITIVE\"]\n",
    "k=0\n",
    "for c in clf.coef_:\n",
    "    top_ten = []\n",
    "    bottom_ten = []\n",
    "    indices1 = np.argsort(c)\n",
    "    for i in indices1[-5:]:\n",
    "        top_ten.append((features[i],c[i]))\n",
    "    print(class_names[k])\n",
    "    k+=1\n",
    "    print(\"top_positive : \",top_ten)\n",
    "    print('\\n')\n",
    "    for i in indices1[:5]:\n",
    "        bottom_ten.append((features[i],c[i]))\n",
    "    print(\"top_negative : \",bottom_ten)\n",
    "    print('\\n')\n",
    "    "
   ]
  },
  {
   "cell_type": "markdown",
   "metadata": {},
   "source": [
    "**RESULT OF OUR MODEL**\n",
    "\n",
    "**NOW WE WILL CALCULATE THE OCCURRENCE OF THE CLASSES IN THE PREDICTION**"
   ]
  },
  {
   "cell_type": "code",
   "execution_count": 123,
   "metadata": {
    "collapsed": false
   },
   "outputs": [
    {
     "name": "stdout",
     "output_type": "stream",
     "text": [
      "Hillary_positive - Hillary_negative =  -54\n",
      "Trump_positive - Trump_negative =  -85\n"
     ]
    }
   ],
   "source": [
    "import collections\n",
    "c=collections.Counter(y)\n",
    "print(\"Hillary_positive - Hillary_negative = \",c[1]-c[0])\n",
    "print(\"Trump_positive - Trump_negative = \",c[3]-c[2])"
   ]
  },
  {
   "cell_type": "markdown",
   "metadata": {},
   "source": [
    "** AS WE CAN SEE FROM ABOVE THAT THE NEGATIVE VALUE OF TRUMP IS MORE THAN HILLARY SO WE CAN SAY THAT HILLARY IS THE MOST LIKELY CANDIDATE TO WIN THE ELECTION**"
   ]
  }
 ],
 "metadata": {
  "anaconda-cloud": {},
  "kernelspec": {
   "display_name": "Python [default]",
   "language": "python",
   "name": "python3"
  },
  "language_info": {
   "codemirror_mode": {
    "name": "ipython",
    "version": 3
   },
   "file_extension": ".py",
   "mimetype": "text/x-python",
   "name": "python",
   "nbconvert_exporter": "python",
   "pygments_lexer": "ipython3",
   "version": "3.5.2"
  }
 },
 "nbformat": 4,
 "nbformat_minor": 1
}
